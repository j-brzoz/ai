{
 "cells": [
  {
   "cell_type": "code",
   "execution_count": 86,
   "metadata": {},
   "outputs": [],
   "source": [
    "import torch\n",
    "import torch.nn.functional as F\n",
    "import matplotlib.pyplot as plt\n",
    "%matplotlib inline"
   ]
  },
  {
   "cell_type": "markdown",
   "metadata": {},
   "source": [
    "First I wanted to test the model without direct connections (W = 0)"
   ]
  },
  {
   "cell_type": "code",
   "execution_count": 112,
   "metadata": {},
   "outputs": [
    {
     "name": "stdout",
     "output_type": "stream",
     "text": [
      "47972\n"
     ]
    },
    {
     "data": {
      "text/plain": [
       "['NOWAK', 'KOWALSKI', 'WIŚNIEWSKI', 'WÓJCIK', 'KOWALCZYK']"
      ]
     },
     "execution_count": 112,
     "metadata": {},
     "output_type": "execute_result"
    }
   ],
   "source": [
    "# dataset that contains most popoular polish surnames\n",
    "words = open('polish_surnames.txt', 'r', encoding='utf-16').read().splitlines()\n",
    "print(len(words))\n",
    "words[:5]"
   ]
  },
  {
   "cell_type": "code",
   "execution_count": 113,
   "metadata": {},
   "outputs": [
    {
     "name": "stdout",
     "output_type": "stream",
     "text": [
      "vocab_size = 68\n"
     ]
    }
   ],
   "source": [
    "# mappings from string elements (chars really) to ints\n",
    "\n",
    "# all possible characters (vocab)\n",
    "chars = sorted(list(set(''.join(words))))\n",
    "v = len(chars) + 1 # vocab size\n",
    "\n",
    "# mappings\n",
    "stoi = { ch:i+1 for i, ch in enumerate(chars)}\n",
    "stoi['.'] = 0\n",
    "itos = {i:ch for ch, i in stoi.items()}\n",
    "\n",
    "print(f'vocab_size = {v}')"
   ]
  },
  {
   "cell_type": "code",
   "execution_count": 102,
   "metadata": {},
   "outputs": [],
   "source": [
    "# function that builds the dataset with apropriate block_size\n",
    "def build_dataset(data, block_size):\n",
    "    X, Y = [], []\n",
    "    for word in data:\n",
    "        context = [0] * block_size\n",
    "        for ch in word + '.':\n",
    "            index = stoi[ch]\n",
    "            X.append(context)\n",
    "            Y.append(index)\n",
    "            context = context[1:] + [index]\n",
    "\n",
    "    X, Y = torch.tensor(X), torch.tensor(Y)\n",
    "    return X, Y"
   ]
  },
  {
   "cell_type": "code",
   "execution_count": 338,
   "metadata": {},
   "outputs": [],
   "source": [
    "# hyperparameters\n",
    "block_size = 3\n",
    "m = 50  # number of dimenstions\n",
    "h = 100 # number of hidden units\n",
    "learning_rate = 0.1\n",
    "n_iter = 100000\n",
    "batch_size = 32"
   ]
  },
  {
   "cell_type": "code",
   "execution_count": 14,
   "metadata": {},
   "outputs": [
    {
     "name": "stdout",
     "output_type": "stream",
     "text": [
      "torch.Size([412553, 12]) torch.Size([412553])\n",
      "............ --> N\n",
      "...........N --> O\n",
      "..........NO --> W\n",
      ".........NOW --> A\n",
      "........NOWA --> K\n",
      ".......NOWAK --> .\n",
      "............ --> K\n",
      "...........K --> O\n",
      "..........KO --> W\n",
      ".........KOW --> A\n"
     ]
    }
   ],
   "source": [
    "X, Y = build_dataset(words, block_size)\n",
    "\n",
    "print(X.shape, Y.shape)\n",
    "for x,y in zip(X[:10], Y[:10]):\n",
    "    print(''.join(itos[ix.item()] for ix in x), '-->', itos[y.item()])"
   ]
  },
  {
   "cell_type": "code",
   "execution_count": 340,
   "metadata": {},
   "outputs": [],
   "source": [
    "# create random splits of data - 90% train set, 10% validation set\n",
    "import random # for reproducibility\n",
    "random.seed(42)\n",
    "random.shuffle(words)\n",
    "\n",
    "n = int(0.9 * Y.shape[0])\n",
    "X_train, X_val = X[:n], X[n:]\n",
    "Y_train, Y_val = Y[:n], Y[n:]"
   ]
  },
  {
   "cell_type": "code",
   "execution_count": 341,
   "metadata": {},
   "outputs": [
    {
     "name": "stdout",
     "output_type": "stream",
     "text": [
      "25368\n"
     ]
    }
   ],
   "source": [
    "# parameters\n",
    "g = torch.Generator().manual_seed(42) # for reproducibility\n",
    "\n",
    "C = torch.randn((v, m), generator=g)\n",
    "H = torch.randn((m * block_size, h), generator=g)\n",
    "d = torch.randn(h, generator=g)\n",
    "U = torch.randn((h, v), generator=g)\n",
    "b = torch.randn(v, generator=g)\n",
    "\n",
    "parameters = [C, H, d, U, b]\n",
    "print(sum(p.nelement() for p in parameters))\n",
    "\n",
    "for p in parameters:\n",
    "    p.requires_grad = True  "
   ]
  },
  {
   "cell_type": "code",
   "execution_count": 342,
   "metadata": {},
   "outputs": [
    {
     "name": "stdout",
     "output_type": "stream",
     "text": [
      "1000 3.5210044384002686\n",
      "2000 3.262807846069336\n",
      "3000 3.6174895763397217\n",
      "4000 2.926891326904297\n"
     ]
    },
    {
     "ename": "KeyboardInterrupt",
     "evalue": "",
     "output_type": "error",
     "traceback": [
      "\u001b[1;31m---------------------------------------------------------------------------\u001b[0m",
      "\u001b[1;31mKeyboardInterrupt\u001b[0m                         Traceback (most recent call last)",
      "\u001b[1;32mc:\\ai\\paper_implementations\\A_Neural_Probabilistic_Language_Model_Bengio_et_al\\implementation.ipynb Cell 9\u001b[0m line \u001b[0;36m1\n\u001b[0;32m      <a href='vscode-notebook-cell:/c%3A/ai/paper_implementations/A_Neural_Probabilistic_Language_Model_Bengio_et_al/implementation.ipynb#X10sZmlsZQ%3D%3D?line=7'>8</a>\u001b[0m \u001b[39m# forward pass\u001b[39;00m\n\u001b[0;32m      <a href='vscode-notebook-cell:/c%3A/ai/paper_implementations/A_Neural_Probabilistic_Language_Model_Bengio_et_al/implementation.ipynb#X10sZmlsZQ%3D%3D?line=8'>9</a>\u001b[0m x \u001b[39m=\u001b[39m C[X_train[index]]\n\u001b[1;32m---> <a href='vscode-notebook-cell:/c%3A/ai/paper_implementations/A_Neural_Probabilistic_Language_Model_Bengio_et_al/implementation.ipynb#X10sZmlsZQ%3D%3D?line=9'>10</a>\u001b[0m hidden_layer \u001b[39m=\u001b[39m torch\u001b[39m.\u001b[39mtanh(x\u001b[39m.\u001b[39;49mview(\u001b[39m-\u001b[39;49m\u001b[39m1\u001b[39;49m, m \u001b[39m*\u001b[39;49m block_size) \u001b[39m@\u001b[39m H \u001b[39m+\u001b[39m d)\n\u001b[0;32m     <a href='vscode-notebook-cell:/c%3A/ai/paper_implementations/A_Neural_Probabilistic_Language_Model_Bengio_et_al/implementation.ipynb#X10sZmlsZQ%3D%3D?line=10'>11</a>\u001b[0m logits \u001b[39m=\u001b[39m hidden_layer \u001b[39m@\u001b[39m U \u001b[39m+\u001b[39m b\n\u001b[0;32m     <a href='vscode-notebook-cell:/c%3A/ai/paper_implementations/A_Neural_Probabilistic_Language_Model_Bengio_et_al/implementation.ipynb#X10sZmlsZQ%3D%3D?line=11'>12</a>\u001b[0m loss \u001b[39m=\u001b[39m F\u001b[39m.\u001b[39mcross_entropy(logits, Y_train[index])\n",
      "\u001b[1;31mKeyboardInterrupt\u001b[0m: "
     ]
    }
   ],
   "source": [
    "steps = []\n",
    "step_loss = []\n",
    "\n",
    "for iter in range(n_iter):\n",
    "   # getting minibatch\n",
    "    index = torch.randint(0, X_train.shape[0], (batch_size,)) \n",
    "\n",
    "    # forward pass\n",
    "    x = C[X_train[index]].view(-1, m * block_size)\n",
    "    hidden_layer = torch.tanh(x @ H + d)\n",
    "    logits = hidden_layer @ U + b\n",
    "    loss = F.cross_entropy(logits, Y_train[index])\n",
    "\n",
    "    # backward pass\n",
    "    for p in parameters:\n",
    "        p.grad = None\n",
    "    loss.backward()\n",
    "\n",
    "    # save data\n",
    "    steps.append(iter)\n",
    "    step_loss.append(loss.log10())\n",
    "\n",
    "    learning_rate = 0.1 if iter < 50000 else 0.01\n",
    "            \n",
    "    # update    \n",
    "    for p in parameters:\n",
    "        p.data -= learning_rate * p.grad\n",
    "\n",
    "    # print once in a while\n",
    "    if (iter+1) % 1000 == 0:\n",
    "        print(iter+1, loss.item())"
   ]
  },
  {
   "cell_type": "code",
   "execution_count": 343,
   "metadata": {},
   "outputs": [
    {
     "ename": "RuntimeError",
     "evalue": "shape '[-1, 500]' is invalid for input of size 4062",
     "output_type": "error",
     "traceback": [
      "\u001b[1;31m---------------------------------------------------------------------------\u001b[0m",
      "\u001b[1;31mRuntimeError\u001b[0m                              Traceback (most recent call last)",
      "\u001b[1;32mc:\\ai\\paper_implementations\\A_Neural_Probabilistic_Language_Model_Bengio_et_al\\implementation.ipynb Cell 10\u001b[0m line \u001b[0;36m2\n\u001b[0;32m      <a href='vscode-notebook-cell:/c%3A/ai/paper_implementations/A_Neural_Probabilistic_Language_Model_Bengio_et_al/implementation.ipynb#X11sZmlsZQ%3D%3D?line=0'>1</a>\u001b[0m \u001b[39m# plotting average logged loss every 500 data points \u001b[39;00m\n\u001b[1;32m----> <a href='vscode-notebook-cell:/c%3A/ai/paper_implementations/A_Neural_Probabilistic_Language_Model_Bengio_et_al/implementation.ipynb#X11sZmlsZQ%3D%3D?line=1'>2</a>\u001b[0m plt\u001b[39m.\u001b[39mplot(torch\u001b[39m.\u001b[39;49mtensor(step_loss)\u001b[39m.\u001b[39;49mview(\u001b[39m-\u001b[39;49m\u001b[39m1\u001b[39;49m, \u001b[39m500\u001b[39;49m)\u001b[39m.\u001b[39mmean(\u001b[39m1\u001b[39m))\n",
      "\u001b[1;31mRuntimeError\u001b[0m: shape '[-1, 500]' is invalid for input of size 4062"
     ]
    }
   ],
   "source": [
    "# plotting average logged loss every 500 data points \n",
    "plt.plot(torch.tensor(step_loss).view(-1, 500).mean(1))"
   ]
  },
  {
   "cell_type": "code",
   "execution_count": 344,
   "metadata": {},
   "outputs": [
    {
     "name": "stdout",
     "output_type": "stream",
     "text": [
      "train_loss = 2.6934778690338135\n",
      "val_loss = 2.8799991607666016\n"
     ]
    }
   ],
   "source": [
    "# calculate losses on the splits\n",
    "def get_loss(split):\n",
    "    if split == 'train':\n",
    "        X_split, Y_split = X_train, Y_train \n",
    "    else:\n",
    "        X_split, Y_split = X_val, Y_val\n",
    "    x = C[X_split].view(-1, m * block_size)          \n",
    "    hidden_layer = torch.tanh(x @ H + d)\n",
    "    logits = hidden_layer @ U + b    \n",
    "    loss = F.cross_entropy(logits, Y_split)\n",
    "    return loss.item()\n",
    "\n",
    "l = get_loss('train')\n",
    "print(f'train_loss = {l}')\n",
    "l = get_loss('val')\n",
    "print(f'val_loss = {l}')"
   ]
  },
  {
   "cell_type": "markdown",
   "metadata": {},
   "source": [
    "##### Playing with hyperparameters\n",
    "v = 68 (vocab size)\n",
    "| block_size | m (dims) | h (n_hidden) | learning_rate* | n_iter | batch_size | train_loss | val_loss | total params|\n",
    "|:---:|:---:|:---:|:--------:|:---:|:---:|:--------:|:--------:|:---:|\n",
    "| 3 | 20 | 100 | 0.1 | 100000 | 32 | 2.0255532264709473 | 2.1562182903289795 | 14328 |\n",
    "| **3** | **20** | **100** | **0.1 / 0.01** | **100000** | **32** | **1.9864557981491089** | **2.1179306507110596** | **14328** |\n",
    "| 3 | 50 | 100 | 0.1 | 100000 | 32 | 2.020906686782837 | 2.1610190868377686 | 25368 |\n",
    "| **3** | **50** | **100** | **0.1 / 0.01** | **100000** | **32** | **1.976877212524414** | **2.11557936668396** | **25368** |\n",
    "| 5 | 50 | 100 | 0.1 | 100000 | 32 | 2.0558860301971436 | 2.179558515548706 | 35368 |\n",
    "| 5 | 50 | 100 | 0.1 / 0.01 | 100000 | 32 | 2.054567575454712 | 2.1728193759918213 | 35368 |\n",
    "| 8 | 50 | 100 | 0.1 | 100000 | 32 | 2.244689702987671 | 2.353611707687378 | 50368 |\n",
    "| 8 | 50 | 100 | 0.1 / 0.01 | 100000 | 32 | 2.174644947052002 | 2.279350757598877 | 50368 |\n",
    "| 8 | 50 | 100 | 0.1 / 0.01 | 200000 | 32 | 2.297348737716675 | 2.421205759048462 | 50368 |\n",
    "| 8 | 50 | 100 | 0.1 / 0.01 | 200000 | 64 | 2.2630765438079834 | 2.3948867321014404 | 50368 |\n",
    "| 12 | 50 | 100 | 0.1 / 0.01 | 200000 | 64 | 2.387294054031372 | 2.4829165935516357 | 70368 |\n",
    "| 12 | 50 | 200 | 0.1 / 0.01 | 200000 | 64 | 2.36772084236145 | 2.4919257164001465 | 137268 |\n",
    "| 12 | 50 | 200 | 0.1 | 100000 | 64 | 2.267059564590454 | 2.387253522872925 | 137268 | 137268 |\n",
    "| 12 | 50 | 200 | 0.1 / 0.01 | 100000 | 64 | 2.220881938934326 | 2.344449043273926 | 137268 |\n",
    "| 12 | 50 | 400 | 0.1 / 0.01 | 100000 | 64 | 2.182727336883545 | 2.336707830429077 | 271068 |\n",
    "| 12 | 75(>vocab_size) | 400 | 0.1 / 0.01 | 100000 | 64 | 2.1903207302093506 | 2.337827205657959 | 392768 |\n",
    "| 12 | 75(>vocab_size) | 400 | 0.1 / 0.01 / 0.001 | 100000 | 64 | 2.2579424381256104 | 2.4177167415618896 | 392768 |\n",
    "| 12 | 75(>vocab_size) | 600 | 0.1 / 0.01 | 100000 | 64 | 2.1668105125427246 | 2.376784324645996 | 586568 |\n",
    "\n",
    "*equal amounts of iterations per learning rate<br><br>\n",
    "It looks like increasing model size doesn't improve its performance. Nor does increasing training time."
   ]
  },
  {
   "cell_type": "code",
   "execution_count": 40,
   "metadata": {},
   "outputs": [
    {
     "name": "stdout",
     "output_type": "stream",
     "text": [
      "KUKDNICA.\n",
      "COCNY.\n",
      "IZIOT.\n",
      "CYWO.\n",
      "KUT.\n",
      "PATLĄNOV--NIWOCKI.\n",
      "RADNIKOK.\n",
      "WEIMNEREUPKOT.\n",
      "BRACKAJ.\n",
      "DISZ.\n",
      "BIAK.\n",
      "TSANECKIYRELWISTLAAT.\n",
      "SZCZEĄKOSANKUDEPBASAA.\n",
      "SLRZACKI.\n",
      "SUDT.\n",
      "IWŁEIŻ.\n",
      "IRIK.\n",
      "IRĆWIƠC.\n",
      "FABA.\n",
      "WYCIOR.\n"
     ]
    }
   ],
   "source": [
    "# sample from the model\n",
    "g =torch.Generator().manual_seed(42)\n",
    "\n",
    "for _ in range(20):\n",
    "    out = []\n",
    "    context = [0] * block_size                                        \n",
    "    while True:\n",
    "        x = C[torch.tensor([context])].view(-1, m * block_size)                           \n",
    "        hidden_layer = torch.tanh(x @ H + d)       \n",
    "        logits = hidden_layer @ U + b\n",
    "        probs = F.softmax(logits, dim=1)\n",
    "        index = torch.multinomial(probs, num_samples=1, generator=g).item()\n",
    "        context = context[1:] + [index]\n",
    "        out.append(index)\n",
    "        if index == 0:\n",
    "            break\n",
    "    \n",
    "    print(''.join(itos[i] for i in out))"
   ]
  },
  {
   "cell_type": "markdown",
   "metadata": {},
   "source": [
    "Samples from the best model:\n",
    "<ol>\n",
    "    <li>MATDZICZ.</li>\n",
    "    <li>BODZIEMNICA.</li>\n",
    "    <li>CYMY.</li>\n",
    "    <li>KULA.</li>\n",
    "    <li>STEREMSKI.</li>\n",
    "    <li>PATOKICHANDREDER.</li>\n",
    "    <li>GLIK.</li>\n",
    "    <li>MERAK.</li>\n",
    "    <li>PRÓRCAKAJSKI.</li>\n",
    "    <li>ZABRAK.</li>\n",
    "    <li>TACHERSKI.</li>\n",
    "    <li>ROSOWILTARASZCZEK.</li>\n",
    "    <li>MASZK.</li>\n",
    "    <li>DEPOŃSKA.</li>\n",
    "    <li>SLÓMACZKA.</li>\n",
    "    <li>STELIMOWICZER.</li>\n",
    "    <li>KUTA.</li>\n",
    "    <li>KLOWSKI.</li>\n",
    "    <li>KOMADEMBO.</li>\n",
    "    <li>MAGIECH.</li>\n",
    "</ol>"
   ]
  },
  {
   "cell_type": "markdown",
   "metadata": {},
   "source": [
    "Now, let's test the model with direct connections (W != 0)"
   ]
  },
  {
   "cell_type": "code",
   "execution_count": 15,
   "metadata": {},
   "outputs": [],
   "source": [
    "# hyperparameters\n",
    "block_size = 12\n",
    "m = 75  # number of dimenstions\n",
    "h = 400 # number of hidden units\n",
    "learning_rate = 0.1\n",
    "n_iter = 100000\n",
    "batch_size = 64"
   ]
  },
  {
   "cell_type": "code",
   "execution_count": 16,
   "metadata": {},
   "outputs": [
    {
     "name": "stdout",
     "output_type": "stream",
     "text": [
      "torch.Size([412553, 12]) torch.Size([412553])\n",
      "............ --> N\n",
      "...........N --> O\n",
      "..........NO --> W\n",
      ".........NOW --> A\n",
      "........NOWA --> K\n",
      ".......NOWAK --> .\n",
      "............ --> K\n",
      "...........K --> O\n",
      "..........KO --> W\n",
      ".........KOW --> A\n"
     ]
    }
   ],
   "source": [
    "X, Y = build_dataset(words, block_size)\n",
    "\n",
    "print(X.shape, Y.shape)\n",
    "for x,y in zip(X[:10], Y[:10]):\n",
    "    print(''.join(itos[ix.item()] for ix in x), '-->', itos[y.item()])"
   ]
  },
  {
   "cell_type": "code",
   "execution_count": 17,
   "metadata": {},
   "outputs": [],
   "source": [
    "# create random splits of data - 90% train set, 10% validation set\n",
    "import random # for reproducibility\n",
    "random.seed(42)\n",
    "random.shuffle(words)\n",
    "\n",
    "n = int(0.9 * Y.shape[0])\n",
    "X_train, X_val = X[:n], X[n:]\n",
    "Y_train, Y_val = Y[:n], Y[n:]"
   ]
  },
  {
   "cell_type": "code",
   "execution_count": 18,
   "metadata": {},
   "outputs": [
    {
     "name": "stdout",
     "output_type": "stream",
     "text": [
      "453968\n"
     ]
    }
   ],
   "source": [
    "# parameters\n",
    "g = torch.Generator().manual_seed(42) # for reproducibility\n",
    "\n",
    "C = torch.randn((v, m), generator=g)\n",
    "H = torch.randn((m * block_size, h), generator=g)\n",
    "d = torch.randn(h, generator=g)\n",
    "U = torch.randn((h, v), generator=g)\n",
    "b = torch.randn(v, generator=g)\n",
    "W = torch.randn((m * block_size, v), generator=g)\n",
    "\n",
    "parameters = [C, H, d, U, b, W]\n",
    "print(sum(p.nelement() for p in parameters))\n",
    "\n",
    "for p in parameters:\n",
    "    p.requires_grad = True  "
   ]
  },
  {
   "cell_type": "code",
   "execution_count": 9,
   "metadata": {},
   "outputs": [
    {
     "name": "stdout",
     "output_type": "stream",
     "text": [
      "1000 8.460774421691895\n",
      "2000 7.578392028808594\n",
      "3000 6.166379451751709\n",
      "4000 4.122081756591797\n",
      "5000 3.8789408206939697\n",
      "6000 4.238890647888184\n",
      "7000 3.7715492248535156\n",
      "8000 3.6485776901245117\n",
      "9000 3.14705228805542\n",
      "10000 3.503323554992676\n",
      "11000 3.3625028133392334\n",
      "12000 3.3505241870880127\n",
      "13000 3.7874701023101807\n",
      "14000 3.2111563682556152\n",
      "15000 3.090815544128418\n",
      "16000 3.257741689682007\n",
      "17000 3.0464634895324707\n",
      "18000 2.9499943256378174\n",
      "19000 2.8613641262054443\n",
      "20000 3.361534357070923\n",
      "21000 3.0336201190948486\n",
      "22000 2.597217559814453\n",
      "23000 3.9682462215423584\n",
      "24000 2.7257416248321533\n",
      "25000 3.275789737701416\n",
      "26000 2.8131885528564453\n",
      "27000 3.073134660720825\n",
      "28000 2.9574711322784424\n",
      "29000 4.441551208496094\n",
      "30000 3.904538869857788\n",
      "31000 3.216831922531128\n",
      "32000 3.35960054397583\n",
      "33000 3.6151061058044434\n",
      "34000 3.0934667587280273\n",
      "35000 3.4274890422821045\n",
      "36000 3.661119222640991\n",
      "37000 3.200934886932373\n",
      "38000 2.249699831008911\n",
      "39000 2.569659948348999\n",
      "40000 2.9381532669067383\n",
      "41000 2.5799615383148193\n",
      "42000 2.076202869415283\n",
      "43000 3.1545519828796387\n",
      "44000 2.325054168701172\n",
      "45000 3.6368331909179688\n",
      "46000 2.3367562294006348\n",
      "47000 2.4825422763824463\n",
      "48000 2.241861581802368\n",
      "49000 2.9799227714538574\n",
      "50000 2.2437500953674316\n",
      "51000 2.262716770172119\n",
      "52000 2.0407145023345947\n",
      "53000 1.866288661956787\n",
      "54000 2.222369909286499\n",
      "55000 1.89069664478302\n",
      "56000 1.8328869342803955\n",
      "57000 1.9363564252853394\n",
      "58000 2.1663320064544678\n",
      "59000 1.8217891454696655\n",
      "60000 2.0388107299804688\n",
      "61000 1.6913374662399292\n",
      "62000 2.3893539905548096\n",
      "63000 1.8734403848648071\n",
      "64000 2.163695812225342\n",
      "65000 2.2100367546081543\n",
      "66000 1.8307689428329468\n",
      "67000 1.9862052202224731\n",
      "68000 1.8127615451812744\n",
      "69000 2.187887668609619\n",
      "70000 1.8392915725708008\n",
      "71000 1.7565062046051025\n",
      "72000 1.8941551446914673\n",
      "73000 2.198493003845215\n",
      "74000 1.9317011833190918\n",
      "75000 2.1667463779449463\n",
      "76000 1.8686412572860718\n",
      "77000 2.116544485092163\n",
      "78000 2.0766851902008057\n",
      "79000 2.091475009918213\n",
      "80000 1.8919219970703125\n",
      "81000 1.9005329608917236\n",
      "82000 1.8758924007415771\n",
      "83000 2.1122496128082275\n",
      "84000 2.162696123123169\n",
      "85000 1.8695368766784668\n",
      "86000 1.964000940322876\n",
      "87000 2.0649683475494385\n",
      "88000 2.164639949798584\n",
      "89000 2.093587875366211\n",
      "90000 2.0079855918884277\n",
      "91000 1.9461036920547485\n",
      "92000 1.9295687675476074\n",
      "93000 2.209925413131714\n",
      "94000 1.9862017631530762\n",
      "95000 2.0143864154815674\n",
      "96000 1.9724217653274536\n",
      "97000 1.7884764671325684\n",
      "98000 2.1508946418762207\n",
      "99000 1.9998843669891357\n",
      "100000 1.9048060178756714\n"
     ]
    }
   ],
   "source": [
    "steps = []\n",
    "step_loss = []\n",
    "\n",
    "for iter in range(n_iter):\n",
    "   # getting minibatch\n",
    "    index = torch.randint(0, X_train.shape[0], (batch_size,)) \n",
    "\n",
    "    # forward pass\n",
    "    x = C[X_train[index]].view(-1, m * block_size)\n",
    "    hidden_layer = torch.tanh(x @ H + d)\n",
    "    logits = x @ W + hidden_layer @ U + b\n",
    "    loss = F.cross_entropy(logits, Y_train[index])\n",
    "\n",
    "    # backward pass\n",
    "    for p in parameters:\n",
    "        p.grad = None\n",
    "    loss.backward()\n",
    "\n",
    "    # save data\n",
    "    steps.append(iter)\n",
    "    step_loss.append(loss.log10())\n",
    "\n",
    "    learning_rate = 0.1 if iter < 50000 else 0.01\n",
    "            \n",
    "    # update    \n",
    "    for p in parameters:\n",
    "        p.data -= learning_rate * p.grad\n",
    "\n",
    "    # print once in a while\n",
    "    if (iter+1) % 1000 == 0:\n",
    "        print(iter+1, loss.item())"
   ]
  },
  {
   "cell_type": "code",
   "execution_count": 10,
   "metadata": {},
   "outputs": [
    {
     "data": {
      "text/plain": [
       "[<matplotlib.lines.Line2D at 0x1efa0e40e50>]"
      ]
     },
     "execution_count": 10,
     "metadata": {},
     "output_type": "execute_result"
    },
    {
     "data": {
      "image/png": "[encoded data removed]",
      "text/plain": [
       "<Figure size 640x480 with 1 Axes>"
      ]
     },
     "metadata": {},
     "output_type": "display_data"
    }
   ],
   "source": [
    "# plotting average logged loss every 500 data points \n",
    "plt.plot(torch.tensor(step_loss).view(-1, 500).mean(1))"
   ]
  },
  {
   "cell_type": "code",
   "execution_count": 42,
   "metadata": {},
   "outputs": [
    {
     "name": "stdout",
     "output_type": "stream",
     "text": [
      "train_loss = 1.94937002658844\n",
      "val_loss = 2.082943916320801\n"
     ]
    }
   ],
   "source": [
    "# calculate losses on the splits\n",
    "def get_loss(split):\n",
    "    if split == 'train':\n",
    "        X_split, Y_split = X_train, Y_train \n",
    "    else:\n",
    "        X_split, Y_split = X_val, Y_val\n",
    "    x = C[X_split].view(-1, m * block_size)           \n",
    "    hidden_layer = torch.tanh(x @ H + d)\n",
    "    logits = x @ W + hidden_layer @ U + b    \n",
    "    loss = F.cross_entropy(logits, Y_split)\n",
    "    return loss.item()\n",
    "\n",
    "l = get_loss('train')\n",
    "print(f'train_loss = {l}')\n",
    "l = get_loss('val')\n",
    "print(f'val_loss = {l}')"
   ]
  },
  {
   "cell_type": "markdown",
   "metadata": {},
   "source": [
    "I decided to test the two models with the lowest loss without direct connection.<br><br>\n",
    "v = 68 (vocab size)\n",
    "| block_size | m (dims) | h (n_hidden) | learning_rate* | n_iter | batch_size |  p_train_loss | train_loss | p_val_loss | val_loss | p_total_params | total_params |\n",
    "|:---:|:---:|:---:|:--------:|:---:|:---:|:--------:|:--------:|:--------:|:--------:|:---:|:---:|\n",
    "| 3 | 20 | 100 | 0.1 / 0.01 | 100000 | 32 | 1.986456 | 1.985039 | 2.117931| 2.103702 | 14328 | 18408 |\n",
    "| 3 | 50 | 100 | 0.1 / 0.01 | 100000 | 32 | 1.976877 | 1.952201 | 2.115579| 2.090269 | 25368 | 35568 |\n",
    "\n",
    "*equal amounts of iterations per learning rate<br><br>\n",
    "Adding direct connection improved model's performance. It's interesting that the bigger model got bigger improvement. Let's test this on previous, even bigger models that had higher loss.\n",
    "| block_size | m (dims) | h (n_hidden) | learning_rate* | n_iter | batch_size |  p_train_loss | train_loss | p_val_loss | val_loss | p_total_params | total_params |\n",
    "|:---:|:---:|:---:|:--------:|:---:|:---:|:--------:|:--------:|:--------:|:--------:|:---:|:---:|\n",
    "| 12 | 50 | 400 | 0.1 / 0.01 | 100000 | 64 | 2.182727 | 2.001002 | 2.336708 | 2.154892 | 271068 | 311868 |\n",
    "| 12 | 75 | 400 | 0.1 / 0.01 | 100000 | 64 | 2.190321 | 2.003366 | 2.337827 | 2.171011 | 271068 | 453968 |\n",
    "\n",
    "Direct connection helped a lot more with bigger model's performance."
   ]
  },
  {
   "cell_type": "code",
   "execution_count": 41,
   "metadata": {},
   "outputs": [
    {
     "name": "stdout",
     "output_type": "stream",
     "text": [
      "MAKAVICHNIK.\n",
      "CZEWSKI.\n",
      "CHAMO.\n",
      "KULA.\n",
      "ZAPIETSKYI.\n",
      "FOŁOWIATOSIKOWSKI.\n",
      "LOZOK.\n",
      "PEDOROSZEWSKI.\n",
      "TASZEMAŃDOSZEWICZYŃSKI.\n",
      "SZLAASKUBCZYK.\n",
      "MASZKA.\n",
      "TABASIA.\n",
      "SZRZACZKOWSKI.\n",
      "WEROWIADELIŃSKI.\n",
      "BOŁOWICZ.\n",
      "WADEMBOGODZIUBE.\n",
      "ZIBIESZKA.\n",
      "ZON.\n",
      "GREJEWSKI.\n",
      "PISAŁA.\n"
     ]
    }
   ],
   "source": [
    "# sample from the model\n",
    "g =torch.Generator().manual_seed(42)\n",
    "\n",
    "for _ in range(20):\n",
    "    out = []\n",
    "    context = [0] * block_size                                        \n",
    "    while True:\n",
    "        x = C[torch.tensor([context])].view(-1, m * block_size)                            \n",
    "        hidden_layer = torch.tanh(x @ H + d)       \n",
    "        logits = x @ W + hidden_layer @ U + b\n",
    "        probs = F.softmax(logits, dim=1)\n",
    "        index = torch.multinomial(probs, num_samples=1, generator=g).item()\n",
    "        context = context[1:] + [index]\n",
    "        out.append(index)\n",
    "        if index == 0:\n",
    "            break\n",
    "    \n",
    "    print(''.join(itos[i] for i in out))"
   ]
  },
  {
   "cell_type": "markdown",
   "metadata": {},
   "source": [
    "Samples from the best model:\n",
    "<ol>\n",
    "    <li>MAKAVICHOWSKI.</li>\n",
    "    <li>BILIPACHAMO.</li>\n",
    "    <li>KULA.</li>\n",
    "    <li>STARA.</li>\n",
    "    <li>SZYN.</li>\n",
    "    <li>KOCZACHANDRENDROWICKI.</li>\n",
    "    <li>KURPOV.</li>\n",
    "    <li>BRZEWSKI.</li>\n",
    "    <li>TYMARGAŃDOSAJERSKI.</li>\n",
    "    <li>RADOS.</li>\n",
    "    <li>LAASKA.</li>\n",
    "    <li>HAŁĄDŹ.</li>\n",
    "    <li>SZKO.</li>\n",
    "    <li>TABASIA.</li>\n",
    "    <li>SZLADCZKA.</li>\n",
    "    <li>STELINIAK.</li>\n",
    "    <li>PIETKOWSKI.</li>\n",
    "    <li>WOJTOSI.</li>\n",
    "    <li>MADEMBOGUDZIKIEWICZ.</li>\n",
    "    <li>WÓLKA.</li>\n",
    "</ol>"
   ]
  },
  {
   "cell_type": "markdown",
   "metadata": {},
   "source": [
    "#### Model improvements"
   ]
  },
  {
   "cell_type": "markdown",
   "metadata": {},
   "source": [
    "##### I implemented those \"features\" to try and see what's the best result I can get from this architecture.\n",
    "<ol>\n",
    "    <li>Paramters initialization adjustment</li>\n",
    "    <li>Layer Norm / Batch Norm</li>\n",
    "<ol>\n",
    "<br>\n",
    "Model that I tested on:\n",
    "\n",
    "| block_size | m (dims) | h (n_hidden) | learning_rate* | n_iter | batch_size | total_params |\n",
    "|:---:|:---:|:---:|:--------:|:---:|:---:|:---:|\n",
    "| 3 | 50 | 100 | 0.1 / 0.01 | 100000 | 32 | 35568 |"
   ]
  },
  {
   "cell_type": "code",
   "execution_count": 119,
   "metadata": {},
   "outputs": [],
   "source": [
    "# hyperparameters\n",
    "block_size = 3\n",
    "m = 50  # number of dimenstions\n",
    "h = 400 # number of hidden units\n",
    "learning_rate = 0.1\n",
    "n_iter = 100000\n",
    "batch_size = 32\n",
    "kaiming_init = 5/3 / (m * block_size)**0.5"
   ]
  },
  {
   "cell_type": "code",
   "execution_count": 115,
   "metadata": {},
   "outputs": [
    {
     "name": "stdout",
     "output_type": "stream",
     "text": [
      "torch.Size([412553, 3]) torch.Size([412553])\n",
      "... --> N\n",
      "..N --> O\n",
      ".NO --> W\n",
      "NOW --> A\n",
      "OWA --> K\n",
      "WAK --> .\n",
      "... --> K\n",
      "..K --> O\n",
      ".KO --> W\n",
      "KOW --> A\n"
     ]
    }
   ],
   "source": [
    "X, Y = build_dataset(words, block_size)\n",
    "\n",
    "print(X.shape, Y.shape)\n",
    "for x,y in zip(X[:10], Y[:10]):\n",
    "    print(''.join(itos[ix.item()] for ix in x), '-->', itos[y.item()])"
   ]
  },
  {
   "cell_type": "code",
   "execution_count": 116,
   "metadata": {},
   "outputs": [],
   "source": [
    "# create random splits of data - 90% train set, 10% validation set\n",
    "import random # for reproducibility\n",
    "random.seed(42)\n",
    "random.shuffle(words)\n",
    "\n",
    "n = int(0.9 * Y.shape[0])\n",
    "X_train, X_val = X[:n], X[n:]\n",
    "Y_train, Y_val = Y[:n], Y[n:]"
   ]
  },
  {
   "cell_type": "code",
   "execution_count": 120,
   "metadata": {},
   "outputs": [
    {
     "name": "stdout",
     "output_type": "stream",
     "text": [
      "101668\n"
     ]
    }
   ],
   "source": [
    "# parameters\n",
    "g = torch.Generator().manual_seed(42) # for reproducibility\n",
    "\n",
    "C = torch.randn((v, m), generator=g)\n",
    "H = torch.randn((m * block_size, h), generator=g) * kaiming_init\n",
    "# d = torch.randn(h, generator=g) * 0.01 for normalization\n",
    "U = torch.randn((h, v), generator=g) * 0.01\n",
    "b = torch.randn(v, generator=g) * 0.01\n",
    "W = torch.randn((m * block_size, v), generator=g) * 0.01\n",
    "\n",
    "# batch norm\n",
    "bn_gain = torch.ones((1, h))\n",
    "bn_bias = torch.zeros((1, h))\n",
    "bn_mean_running = torch.zeros((1, h))\n",
    "bn_std_running = torch.ones((1, h))\n",
    "\n",
    "# layer norm\n",
    "ln_gain = torch.ones((1, h))\n",
    "ln_bias = torch.zeros((1, h))\n",
    "\n",
    "parameters = [C, H, U, b, W, ln_gain, ln_bias] # without d for normalization\n",
    "print(sum(p.nelement() for p in parameters))\n",
    "\n",
    "for p in parameters:\n",
    "    p.requires_grad = True  "
   ]
  },
  {
   "cell_type": "code",
   "execution_count": 121,
   "metadata": {},
   "outputs": [],
   "source": [
    "def batch_norm_train(batch, bn_gain, bn_bias, bn_mean_running, bn_std_running):\n",
    "    bn_mean_per_i = batch.mean(0, keepdim=True)\n",
    "    bn_std_per_i = batch.std(0, keepdim=True)\n",
    "    batch = bn_gain * (batch - bn_mean_per_i) / bn_std_per_i + bn_bias\n",
    "    with torch.no_grad():\n",
    "        bn_mean_running = 0.999 * bn_mean_running + 0.001 * bn_mean_per_i\n",
    "        bn_std_running = 0.999 * bn_std_running + 0.001 * bn_std_per_i\n",
    "    return batch\n",
    "\n",
    "def batch_norm_test(batch, bn_gain, bn_bias, bn_mean_running, bn_std_running):\n",
    "    batch = bn_gain * (batch - bn_mean_running) / bn_std_running + bn_bias\n",
    "    return batch\n",
    "    \n",
    "def layer_norm(batch, ln_gain, ln_bias):\n",
    "    ln_mean = batch.mean(1, keepdim=True)\n",
    "    ln_std = batch.std(1, keepdim=True)\n",
    "    batch = ln_gain * (batch - ln_mean) / ln_std + ln_bias\n",
    "    return batch"
   ]
  },
  {
   "cell_type": "code",
   "execution_count": 122,
   "metadata": {},
   "outputs": [
    {
     "name": "stdout",
     "output_type": "stream",
     "text": [
      "1000 2.3360939025878906\n",
      "2000 2.200416326522827\n",
      "3000 2.2017853260040283\n",
      "4000 2.1058740615844727\n",
      "5000 1.4624714851379395\n",
      "6000 2.204050064086914\n",
      "7000 2.0182909965515137\n",
      "8000 1.9094396829605103\n",
      "9000 1.5615689754486084\n",
      "10000 2.2528791427612305\n",
      "11000 2.2849888801574707\n",
      "12000 1.6254806518554688\n",
      "13000 1.8006060123443604\n",
      "14000 2.0475351810455322\n",
      "15000 1.7053141593933105\n",
      "16000 2.065634250640869\n",
      "17000 2.0034921169281006\n",
      "18000 1.8999561071395874\n",
      "19000 1.9620786905288696\n",
      "20000 2.075766086578369\n",
      "21000 1.5213130712509155\n",
      "22000 2.2733712196350098\n",
      "23000 2.0292513370513916\n",
      "24000 2.426924705505371\n",
      "25000 1.892059564590454\n",
      "26000 2.138340473175049\n",
      "27000 1.7809332609176636\n",
      "28000 1.7501946687698364\n",
      "29000 1.5483355522155762\n",
      "30000 2.227597236633301\n",
      "31000 2.0102884769439697\n",
      "32000 2.3238399028778076\n",
      "33000 2.1897060871124268\n",
      "34000 1.9558873176574707\n",
      "35000 1.7652809619903564\n",
      "36000 1.9575966596603394\n",
      "37000 2.186335563659668\n",
      "38000 2.124277114868164\n",
      "39000 1.7528531551361084\n",
      "40000 1.6824984550476074\n",
      "41000 1.5275518894195557\n",
      "42000 2.095466375350952\n",
      "43000 1.8365545272827148\n",
      "44000 1.6662790775299072\n",
      "45000 1.888071060180664\n",
      "46000 2.334291458129883\n",
      "47000 1.7322733402252197\n",
      "48000 1.3747395277023315\n",
      "49000 1.7373582124710083\n",
      "50000 2.055807590484619\n",
      "51000 1.391963005065918\n",
      "52000 1.7553000450134277\n",
      "53000 1.910678744316101\n",
      "54000 1.986181378364563\n",
      "55000 1.6684092283248901\n",
      "56000 2.014817953109741\n",
      "57000 1.794597864151001\n",
      "58000 1.7506382465362549\n",
      "59000 1.8705034255981445\n",
      "60000 1.6474553346633911\n",
      "61000 1.451181173324585\n",
      "62000 1.953163981437683\n",
      "63000 1.9028773307800293\n",
      "64000 1.4813523292541504\n",
      "65000 1.7762565612792969\n",
      "66000 2.0357108116149902\n",
      "67000 1.8599638938903809\n",
      "68000 1.9087659120559692\n",
      "69000 1.7751048803329468\n",
      "70000 1.820702314376831\n",
      "71000 1.6011033058166504\n",
      "72000 2.0990850925445557\n",
      "73000 2.2961390018463135\n",
      "74000 1.8021043539047241\n",
      "75000 1.8623476028442383\n",
      "76000 1.4652043581008911\n",
      "77000 1.4274637699127197\n",
      "78000 1.777241587638855\n",
      "79000 1.8642957210540771\n",
      "80000 1.872288703918457\n",
      "81000 2.0070929527282715\n",
      "82000 1.6958353519439697\n",
      "83000 1.6660659313201904\n",
      "84000 1.7548824548721313\n",
      "85000 2.098179817199707\n",
      "86000 1.9947501420974731\n",
      "87000 1.9274183511734009\n",
      "88000 1.996606469154358\n",
      "89000 1.4117151498794556\n",
      "90000 1.593127965927124\n",
      "91000 2.046117067337036\n",
      "92000 1.9561767578125\n",
      "93000 1.9856840372085571\n",
      "94000 1.4437170028686523\n",
      "95000 1.8495975732803345\n",
      "96000 2.0793495178222656\n",
      "97000 1.992009162902832\n",
      "98000 2.0593371391296387\n",
      "99000 1.7901966571807861\n",
      "100000 1.7438241243362427\n"
     ]
    }
   ],
   "source": [
    "steps = []\n",
    "step_loss = []\n",
    "\n",
    "for iter in range(n_iter):\n",
    "   # getting minibatch\n",
    "    index = torch.randint(0, X_train.shape[0], (batch_size,)) \n",
    "\n",
    "    # forward pass\n",
    "    x = C[X_train[index]].view(-1, m * block_size)\n",
    "    hidden_layer_pre_act = x @ H #+ d for normalization\n",
    "    hidden_layer_pre_act = layer_norm(hidden_layer_pre_act, ln_gain, ln_bias)\n",
    "    hidden_layer = torch.tanh(hidden_layer_pre_act)\n",
    "    logits = x @ W + hidden_layer @ U + b\n",
    "    loss = F.cross_entropy(logits, Y_train[index])\n",
    "\n",
    "    # backward pass\n",
    "    for p in parameters:\n",
    "        p.grad = None\n",
    "    loss.backward()\n",
    "\n",
    "    # save data\n",
    "    steps.append(iter)\n",
    "    step_loss.append(loss.log10())\n",
    "\n",
    "    learning_rate = 0.1 if iter < 50000 else 0.01\n",
    "            \n",
    "    # update    \n",
    "    for p in parameters:\n",
    "        p.data -= learning_rate * p.grad\n",
    "\n",
    "    # print once in a while\n",
    "    if (iter+1) % 1000 == 0:\n",
    "        print(iter+1, loss.item())"
   ]
  },
  {
   "cell_type": "code",
   "execution_count": 123,
   "metadata": {},
   "outputs": [
    {
     "data": {
      "text/plain": [
       "[<matplotlib.lines.Line2D at 0x1efa22d1f30>]"
      ]
     },
     "execution_count": 123,
     "metadata": {},
     "output_type": "execute_result"
    },
    {
     "data": {
      "image/png": "[encoded data removed]",
      "text/plain": [
       "<Figure size 640x480 with 1 Axes>"
      ]
     },
     "metadata": {},
     "output_type": "display_data"
    }
   ],
   "source": [
    "# plotting average logged loss every 500 data points \n",
    "plt.plot(torch.tensor(step_loss).view(-1, 500).mean(1))"
   ]
  },
  {
   "cell_type": "code",
   "execution_count": 124,
   "metadata": {},
   "outputs": [
    {
     "name": "stdout",
     "output_type": "stream",
     "text": [
      "train_loss = 1.8632705211639404\n",
      "val_loss = 1.9982855319976807\n"
     ]
    }
   ],
   "source": [
    "# calculate losses on the splits\n",
    "def get_loss(split):\n",
    "    if split == 'train':\n",
    "        X_split, Y_split = X_train, Y_train \n",
    "    else:\n",
    "        X_split, Y_split = X_val, Y_val\n",
    "    x = C[X_split].view(-1, m * block_size)          \n",
    "    hidden_layer_pre_act = x @ H #+ d for normalization\n",
    "    hidden_layer_pre_act = layer_norm(hidden_layer_pre_act, ln_gain, ln_bias)\n",
    "    hidden_layer = torch.tanh(hidden_layer_pre_act)\n",
    "    logits = x @ W + hidden_layer @ U + b\n",
    "    loss = F.cross_entropy(logits, Y_split)\n",
    "    return loss.item()\n",
    "\n",
    "l = get_loss('train')\n",
    "print(f'train_loss = {l}')\n",
    "l = get_loss('val')\n",
    "print(f'val_loss = {l}')"
   ]
  },
  {
   "cell_type": "markdown",
   "metadata": {},
   "source": [
    "#### Results\n",
    "v = 68 (vocab size)\n",
    "| block_size | m (dims) | h (n_hidden) | learning_rate* | n_iter | batch_size | train_loss | val_loss | params | param init | norm\n",
    "|:---:|:---:|:---:|:--------:|:---:|:---:|:--------:|:--------:|:---:|:---:|:---:|\n",
    "| 3 | 50 | 100 | 0.1 / 0.01 | 100000 | 32 | 1.952201 | 2.090269 | 35568 | none | none |\n",
    "| 3 | 50 | 100 | 0.1 / 0.01 | 100000 | 32 | 1.873789 | 2.007544 | 35568 | present | none |\n",
    "| 3 | 50 | 100 | 0.1 / 0.01 | 100000 | 32 | 2.069724 | 2.205111 | 35668 | present | batch |\n",
    "| 3 | 50 | 100 | 0.1 / 0.01 | 100000 | 64 | 2.145705 | 2.278057 | 35668 | present | batch |\n",
    "| 3 | 50 | 100 | 0.1 / 0.01 | 100000 | 128 | 2.257887 | 2.391355 | 35668 | present | batch |\n",
    "| 3 | 50 | 100 | 0.1 / 0.01 | 100000 | 32 | 1.892221 | 2.018405 | 35668 | present | layer |\n",
    "| 3 | 50 | 200 | 0.1 / 0.01 | 100000 | 32 | 1.873022 | 2.004731 | 57668 | present | layer |\n",
    "| 3 | 50 | 400 | 0.1 / 0.01 | 100000 | 32 | 1.863271 | 1.998286 | 101668 | present | layer |\n",
    "\n",
    "*equal amounts of iterations per learning rate\n"
   ]
  },
  {
   "cell_type": "code",
   "execution_count": 125,
   "metadata": {},
   "outputs": [
    {
     "name": "stdout",
     "output_type": "stream",
     "text": [
      "MAKAVICHOWSKI.\n",
      "BILIPACHAMY.\n",
      "KLEJ.\n",
      "STARA.\n",
      "SZYN.\n",
      "KOCKI.\n",
      "RADZIEDA.\n",
      "WIDLAK.\n",
      "KURTOWSKI.\n",
      "RYCH.\n",
      "DYSZ.\n",
      "BRAŃCZAK.\n",
      "WASIYK.\n",
      "LIŃSKI.\n",
      "ANDERCZEK.\n",
      "MASZKO.\n",
      "TABASIA.\n",
      "SLYMACZKA.\n",
      "WASZEWICZ.\n",
      "PER.\n"
     ]
    }
   ],
   "source": [
    "# sample from the model\n",
    "g =torch.Generator().manual_seed(42)\n",
    "\n",
    "for _ in range(20):\n",
    "    out = []\n",
    "    context = [0] * block_size                                        \n",
    "    while True:\n",
    "        x = C[torch.tensor([context])].view(-1, m * block_size)\n",
    "        hidden_layer_pre_act = x @ H #+ d for normalization\n",
    "        hidden_layer_pre_act = layer_norm(hidden_layer_pre_act, ln_gain, ln_bias)                   \n",
    "        hidden_layer = torch.tanh(hidden_layer_pre_act)       \n",
    "        logits = x @ W + hidden_layer @ U + b\n",
    "        probs = F.softmax(logits, dim=1)\n",
    "        index = torch.multinomial(probs, num_samples=1, generator=g).item()\n",
    "        context = context[1:] + [index]\n",
    "        out.append(index)\n",
    "        if index == 0:\n",
    "            break\n",
    "    \n",
    "    print(''.join(itos[i] for i in out))"
   ]
  },
  {
   "cell_type": "markdown",
   "metadata": {},
   "source": [
    "Samples from the best model:\n",
    "<ol>\n",
    "    <li>MAKAVICHOWSKI.</li>\n",
    "    <li>BILIPACHAMY.</li>\n",
    "    <li>KLEJ.</li>\n",
    "    <li>STARA.</li>\n",
    "    <li>SZYN.</li>\n",
    "    <li>KOCKI.</li>\n",
    "    <li>RADZIEDA.</li>\n",
    "    <li>WIDLAK.</li>\n",
    "    <li>KURTOWSKI.</li>\n",
    "    <li>RYCH.</li>\n",
    "    <li>DYSZ.</li>\n",
    "    <li>BRAŃCZAK.</li>\n",
    "    <li>WASIYK.</li>\n",
    "    <li>LIŃSKI.</li>\n",
    "    <li>ANDERCZEK.</li>\n",
    "    <li>MASZKO.</li>\n",
    "    <li>TABASIA.</li>\n",
    "    <li>SLYMACZKA.</li>\n",
    "    <li>WASZEWICZ.</li>\n",
    "    <li>PER.</li>\n",
    "</ol>"
   ]
  }
 ],
 "metadata": {
  "kernelspec": {
   "display_name": "Python 3",
   "language": "python",
   "name": "python3"
  },
  "language_info": {
   "codemirror_mode": {
    "name": "ipython",
    "version": 3
   },
   "file_extension": ".py",
   "mimetype": "text/x-python",
   "name": "python",
   "nbconvert_exporter": "python",
   "pygments_lexer": "ipython3",
   "version": "3.10.10"
  },
  "orig_nbformat": 4
 },
 "nbformat": 4,
 "nbformat_minor": 2
}
